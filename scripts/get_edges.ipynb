{
 "cells": [
  {
   "cell_type": "code",
   "execution_count": 1,
   "metadata": {},
   "outputs": [
    {
     "name": "stdout",
     "output_type": "stream",
     "text": [
      "check:  True\n"
     ]
    }
   ],
   "source": [
    "import numpy as np\n",
    "for i in range(3,4):\n",
    "    confusion = np.loadtxt(\"../results/confusion_\"+str(i)+\".txt\", delimiter=\" \", dtype=float)\n",
    "    index0 = np.arange(593,775,i)[confusion.argmax(0)]\n",
    "    index1 = np.arange(1350,1515,i)\n",
    "    output_file = open('../results/edges_'+str(i)+'.txt', 'w+')\n",
    "    print('check: ', len(index0)==len(index1))\n",
    "    for i0, i1 in zip(index0, index1):\n",
    "        output_file.write(str(i0)+' '+str(i1)+'\\n')"
   ]
  },
  {
   "cell_type": "code",
   "execution_count": 33,
   "metadata": {},
   "outputs": [],
   "source": [
    "import cv2\n",
    "dataset_folder = '/home/link/Projects/unified_cvo/test_data/kitti_05/image_2/'\n",
    "for i0, i1 in zip(index0, index1):\n",
    "    output_file.write(str(i0)+' '+str(i1)+'\\n')\n",
    "    img1 = cv2.imread(dataset_folder+'0'*(6-len(str(i0)))+str(i0)+'.png')\n",
    "    img2 = cv2.imread(dataset_folder+'0'*(6-len(str(i1)))+str(i1)+'.png')\n",
    "    vis = np.concatenate((img1, img2), axis=0)\n",
    "    cv2.imwrite('../results/matches/'+str(i1)+'.png', vis)\n"
   ]
  },
  {
   "cell_type": "code",
   "execution_count": 34,
   "metadata": {},
   "outputs": [
    {
     "data": {
      "text/plain": [
       "'000773'"
      ]
     },
     "execution_count": 34,
     "metadata": {},
     "output_type": "execute_result"
    }
   ],
   "source": []
  },
  {
   "cell_type": "code",
   "execution_count": null,
   "metadata": {},
   "outputs": [],
   "source": []
  }
 ],
 "metadata": {
  "kernelspec": {
   "display_name": "base",
   "language": "python",
   "name": "python3"
  },
  "language_info": {
   "codemirror_mode": {
    "name": "ipython",
    "version": 3
   },
   "file_extension": ".py",
   "mimetype": "text/x-python",
   "name": "python",
   "nbconvert_exporter": "python",
   "pygments_lexer": "ipython3",
   "version": "3.10.12"
  },
  "orig_nbformat": 4,
  "vscode": {
   "interpreter": {
    "hash": "1f381c2373dae8bd09134bd8baa5497150a65b1d98c6928171478d5094ccec2a"
   }
  }
 },
 "nbformat": 4,
 "nbformat_minor": 2
}
